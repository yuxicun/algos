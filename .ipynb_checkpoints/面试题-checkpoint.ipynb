{
 "cells": [
  {
   "cell_type": "markdown",
   "metadata": {},
   "source": [
    "NLP/AI面试全记录持续更新，最全预训练总结 https://zhuanlan.zhihu.com/p/57153934"
   ]
  },
  {
   "cell_type": "markdown",
   "metadata": {},
   "source": [
    "  NLP、CV、语音相关AI算法工程师面试问题、代码、简历模板、知识点等资源整理分享  https://zhuanlan.zhihu.com/p/89791317"
   ]
  },
  {
   "cell_type": "code",
   "execution_count": null,
   "metadata": {},
   "outputs": [],
   "source": []
  }
 ],
 "metadata": {
  "kernelspec": {
   "display_name": "Python 3",
   "language": "python",
   "name": "python3"
  },
  "language_info": {
   "codemirror_mode": {
    "name": "ipython",
    "version": 3
   },
   "file_extension": ".py",
   "mimetype": "text/x-python",
   "name": "python",
   "nbconvert_exporter": "python",
   "pygments_lexer": "ipython3",
   "version": "3.5.3rc1"
  }
 },
 "nbformat": 4,
 "nbformat_minor": 2
}
