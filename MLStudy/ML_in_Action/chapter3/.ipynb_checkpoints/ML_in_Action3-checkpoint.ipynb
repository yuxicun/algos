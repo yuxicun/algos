{
 "cells": [
  {
   "cell_type": "markdown",
   "metadata": {},
   "source": []
  },
  {
   "cell_type": "markdown",
   "metadata": {},
   "source": [
    "3.1 决策树的构造"
   ]
  },
  {
   "cell_type": "code",
   "execution_count": 80,
   "metadata": {},
   "outputs": [],
   "source": [
    "from importlib import reload\n",
    "from importlib import reload\n",
    "import importlib\n",
    "import trees\n",
    "from math import log\n",
    "\n",
    "def calcShannonEnt(dataSet):\n",
    "#     保存实例总数\n",
    "    numEntries = len(dataSet)\n",
    "#     创建一个数据字典\n",
    "    labelCounts = {}\n",
    "    for featVec in dataSet:\n",
    "        currentLabel = featVec[-1]\n",
    "#         每个键值都记录了当前类别出现的次数\n",
    "        if currentLabel not in labelCounts.keys():\n",
    "            labelCounts[currentLabel] = 0\n",
    "        labelCounts[currentLabel]+=1\n",
    "    shannonEnt = 0.0\n",
    "    for key in labelCounts:\n",
    "        prob = float(labelCounts[key])/numEntries\n",
    "        shannonEnt -= prob*log(prob,2)\n",
    "    return shannonEnt"
   ]
  },
  {
   "cell_type": "code",
   "execution_count": 81,
   "metadata": {},
   "outputs": [],
   "source": [
    "from importlib import reload\n",
    "def createDataSet():\n",
    "    dataSet = [[1,1,'yes'], \n",
    "               [1,1,'yes'],\n",
    "               [1,0,'no'],\n",
    "               [0,1,'no'],\n",
    "               [0,1,'no']]\n",
    "    labels = ['no surfacing','flippers']\n",
    "    return dataSet,labels\n"
   ]
  },
  {
   "cell_type": "code",
   "execution_count": 82,
   "metadata": {},
   "outputs": [],
   "source": [
    "from importlib import reload\n",
    "import importlib\n",
    "import trees\n",
    "importlib.reload(trees)\n",
    "myDat,labels = createDataSet()\n"
   ]
  },
  {
   "cell_type": "code",
   "execution_count": 40,
   "metadata": {},
   "outputs": [
    {
     "data": {
      "text/plain": [
       "[[1, 1, 'yes'], [1, 1, 'yes'], [1, 0, 'no'], [0, 1, 'no'], [0, 1, 'no']]"
      ]
     },
     "execution_count": 40,
     "metadata": {},
     "output_type": "execute_result"
    }
   ],
   "source": [
    "myDat"
   ]
  },
  {
   "cell_type": "code",
   "execution_count": 84,
   "metadata": {},
   "outputs": [
    {
     "data": {
      "text/plain": [
       "0.9709505944546686"
      ]
     },
     "execution_count": 84,
     "metadata": {},
     "output_type": "execute_result"
    }
   ],
   "source": [
    "calcShannonEnt(myDat)"
   ]
  },
  {
   "cell_type": "code",
   "execution_count": 85,
   "metadata": {},
   "outputs": [
    {
     "data": {
      "text/plain": [
       "[[1, 1, 'yes'], [1, 1, 'yes'], [1, 0, 'no'], [0, 1, 'no'], [0, 1, 'no']]"
      ]
     },
     "execution_count": 85,
     "metadata": {},
     "output_type": "execute_result"
    }
   ],
   "source": [
    "myDat"
   ]
  },
  {
   "cell_type": "code",
   "execution_count": 86,
   "metadata": {},
   "outputs": [],
   "source": [
    "myDat[0][-1] ='maybe'"
   ]
  },
  {
   "cell_type": "code",
   "execution_count": 87,
   "metadata": {},
   "outputs": [
    {
     "data": {
      "text/plain": [
       "[[1, 1, 'maybe'], [1, 1, 'yes'], [1, 0, 'no'], [0, 1, 'no'], [0, 1, 'no']]"
      ]
     },
     "execution_count": 87,
     "metadata": {},
     "output_type": "execute_result"
    }
   ],
   "source": [
    "myDat"
   ]
  },
  {
   "cell_type": "code",
   "execution_count": 89,
   "metadata": {},
   "outputs": [
    {
     "data": {
      "text/plain": [
       "1.3709505944546687"
      ]
     },
     "execution_count": 89,
     "metadata": {},
     "output_type": "execute_result"
    }
   ],
   "source": [
    "calcShannonEnt(myDat)"
   ]
  },
  {
   "cell_type": "markdown",
   "metadata": {},
   "source": [
    "程序清单3-2 按照给定特征划分数据集"
   ]
  },
  {
   "cell_type": "code",
   "execution_count": 90,
   "metadata": {},
   "outputs": [],
   "source": [
    "# 使用了3个参数：待划分的数据集、划分数据集的特征、需要返回的特征的值\n",
    "\n",
    "def splitDataSet(dataSet,axis,value):\n",
    "    retDataSet = []\n",
    "#     数据集这个列表中的各个元素也是列表，一旦发现符合要求的值，则将其添加到新创建的列表中。\n",
    "#     在if语句中，程序将符合特征的数据抽取出来\n",
    "    for featVec in dataSet:\n",
    "        if featVec[axis]== value:\n",
    "            reducedFeatvec = featVec[:axis]\n",
    "            reducedFeatvec.extend(featVec[axis+1:])\n",
    "            retDataSet.append(reducedFeatvec)\n",
    "    return retDataSet"
   ]
  },
  {
   "cell_type": "code",
   "execution_count": 91,
   "metadata": {},
   "outputs": [
    {
     "data": {
      "text/plain": [
       "[1, 2, 3, [4, 5, 6]]"
      ]
     },
     "execution_count": 91,
     "metadata": {},
     "output_type": "execute_result"
    }
   ],
   "source": [
    "# 代码中使用了python的自带extend() 和append()方法。这两个方法的处理结果完全不同。\n",
    "a = [1,2,3]\n",
    "b = [4,5,6]\n",
    "a.append(b)\n",
    "a\n",
    "\n"
   ]
  },
  {
   "cell_type": "code",
   "execution_count": 92,
   "metadata": {},
   "outputs": [
    {
     "data": {
      "text/plain": [
       "[1, 2, 3, 4, 5, 6]"
      ]
     },
     "execution_count": 92,
     "metadata": {},
     "output_type": "execute_result"
    }
   ],
   "source": [
    "\n",
    "a = [1,2,3]\n",
    "b = [4,5,6]\n",
    "a.extend(b)\n",
    "a"
   ]
  },
  {
   "cell_type": "code",
   "execution_count": 93,
   "metadata": {},
   "outputs": [
    {
     "data": {
      "text/plain": [
       "[[1, 'maybe'], [1, 'yes'], [0, 'no']]"
      ]
     },
     "execution_count": 93,
     "metadata": {},
     "output_type": "execute_result"
    }
   ],
   "source": [
    "splitDataSet(myDat,0,1)"
   ]
  },
  {
   "cell_type": "markdown",
   "metadata": {},
   "source": [
    "\n",
    "程序清单3-3选择最好的数据集划分方式"
   ]
  },
  {
   "cell_type": "code",
   "execution_count": 94,
   "metadata": {},
   "outputs": [],
   "source": [
    "def chooseBestFeatureToSplit(dataSet):\n",
    "    numFeatures = len(dataSet[0])-1\n",
    "    baseEntropy = calcShannonEnt(dataSet)\n",
    "    bestInfoGain = 0.0; bestFeature = -1\n",
    "#     创建唯一的分类标签列表\n",
    "    for i in range(numFeatures):\n",
    "        featList = [example[i] for example in dataSet]\n",
    "        uniqueVals = set(featList)\n",
    "        newEntropy = 0.0\n",
    "#         计算每种划分方式的信息熵\n",
    "        for value in uniqueVals:\n",
    "            subDataSet = splitDataSet(dataSet,i,value)\n",
    "            prob = len(subDataSet)/float(len(dataSet))\n",
    "            newEntropy += prob* calcShannonEnt(subDataSet)\n",
    "        infoGain = baseEntropy -newEntropy\n",
    "#        计算最好的信息增益\n",
    "        if (infoGain > bestInfoGain):\n",
    "            bestInfoGain = infoGain\n",
    "            bestFeature = i\n",
    "    return bestFeature"
   ]
  },
  {
   "cell_type": "code",
   "execution_count": 95,
   "metadata": {},
   "outputs": [],
   "source": [
    "myDat ,labels = createDataSet()"
   ]
  },
  {
   "cell_type": "code",
   "execution_count": 96,
   "metadata": {},
   "outputs": [
    {
     "data": {
      "text/plain": [
       "0"
      ]
     },
     "execution_count": 96,
     "metadata": {},
     "output_type": "execute_result"
    }
   ],
   "source": [
    "chooseBestFeatureToSplit(myDat)"
   ]
  },
  {
   "cell_type": "code",
   "execution_count": 97,
   "metadata": {},
   "outputs": [
    {
     "data": {
      "text/plain": [
       "[[1, 1, 'yes'], [1, 1, 'yes'], [1, 0, 'no'], [0, 1, 'no'], [0, 1, 'no']]"
      ]
     },
     "execution_count": 97,
     "metadata": {},
     "output_type": "execute_result"
    }
   ],
   "source": [
    "myDat"
   ]
  },
  {
   "cell_type": "code",
   "execution_count": 98,
   "metadata": {},
   "outputs": [],
   "source": [
    "def majorityCnt(classList):\n",
    "    classCount = {}\n",
    "#     字典对象存储了classList中每个类标签出现的频率，最后利用operator操作键值排序字典，并返回出现次数最多的分类名称\n",
    "    if vote not in classCount.keys():\n",
    "        classCount[vote] = 0\n",
    "        classCount[vote]+=1\n",
    "    sortedClassCount = sorted(classCount.items(),key = operator.itemgetter(1),reverse = True)\n",
    "    return sortedClassCount[0][0]"
   ]
  },
  {
   "cell_type": "markdown",
   "metadata": {},
   "source": [
    "程序清单3-4 创建树的函数代码"
   ]
  },
  {
   "cell_type": "code",
   "execution_count": 99,
   "metadata": {},
   "outputs": [],
   "source": [
    "# 程序清单3-4的代码使用两个输入参数：数据集和标签列表\n",
    "def createTree(dataSet,labels):\n",
    "#     递归函数的第一个停止条件是所有的类标签完全相同。则直接返回该类标签。\n",
    "    classList = [example[-1] for example in dataSet]\n",
    "    if classList.count(classList[0]) ==len(classList):\n",
    "        return classList[0]\n",
    "#     递归函数的第二个停止条件是使用完了所有的特征，仍然不能将数据集划分成近包含唯一类别的分组，\n",
    "# 由于第二个条件无法简单地返回唯一的类标签，这里使用前面介绍的majorityCnt函数挑选出次数最多的类别作为返回值。\n",
    "    if len(dataSet[0]) == 1:\n",
    "        return majorityCnt(classList)\n",
    "    \n",
    "    bestFeat = chooseBestFeatureToSplit(dataSet)\n",
    "    bestFeatLabel = labels[bestFeat]\n",
    "#     字典变量mytree存储了树的所有信息，这对于其后绘制树形图非常重要。当前数据集选取的最好的特征存储在变量bestFeat中，\n",
    "# 得到列表包含的所有属性值3。\n",
    "    myTree = {bestFeatLabel:{}}\n",
    "    del(labels[bestFeat])\n",
    "    featValues = [example[bestFeat] for example in dataSet]\n",
    "    uniqueVals = set(featValues)\n",
    "#     最后代码遍历当前选择特征包含的所有属性值，在每个数据集划分上递归调用函数createTree（），得到的返回值将被插入到变量myTree中\n",
    "    for value in uniqueVals:\n",
    "#         这行代码复制了类标签，并将其存储在新列表变量subLabels中。之所以这样做，是因为在Python语言中函数参数是列表类型时，\n",
    "#         参数是按照引用的方式传递的，为了保证每次调用函数createTree（）时不改变原始列表的内容，使用新变量subLabels代替原始列表。\n",
    "        subLabels = labels[:]\n",
    "        myTree[bestFeatLabel][value] = createTree(splitDataSet(dataSet,bestFeat,value),subLabels)\n",
    "    return myTree"
   ]
  },
  {
   "cell_type": "code",
   "execution_count": 100,
   "metadata": {},
   "outputs": [
    {
     "data": {
      "text/plain": [
       "{'no surfacing': {0: 'no', 1: {'flippers': {0: 'no', 1: 'yes'}}}}"
      ]
     },
     "execution_count": 100,
     "metadata": {},
     "output_type": "execute_result"
    }
   ],
   "source": [
    "myDat,lables = createDataSet()\n",
    "myTree = createTree(myDat,labels)\n",
    "myTree"
   ]
  },
  {
   "cell_type": "markdown",
   "metadata": {},
   "source": [
    "\n"
   ]
  },
  {
   "cell_type": "code",
   "execution_count": 101,
   "metadata": {},
   "outputs": [],
   "source": [
    "import matplotlib.pyplot as plt\n",
    "\n",
    "# 定义描述树节点的常量，定义了文本框和箭头格式\n",
    "decisionNode = dict(boxstyle = \"sawtooth\",fc = \"0.8\")\n",
    "leafNode = dict(boxstyle=\"round4\",fc = \"0.8\")\n",
    "arrow_args = dict(arrowstyle=\"<-\")\n",
    "\n",
    "# 定义plotNode（）函数执行了实际的绘图功能，该函数需要一个绘图区，该区域由全局变量createPlot.ax1定义。\n",
    "def plotNode(nodeText,centerPt,parentPt,nodeType):\n",
    "    createPlot.ax1.annotate(nodeText, xy = parentPt, xycoords = 'axes fraction',xytext = centerPt,textcoords=\"axes fraction\",va = \"center\",ha = \"center\",bbox = nodeType,arrowprops = arrow_args)\n",
    "# 定义createPlot（）函数，是这段代码的核心。\n",
    "# 首先创建了一个新图形并清空绘图区，然后在绘图区上绘制两个代表不同类型的树节点，后面我们将用这两个节点绘制树形图。\n",
    "\n",
    "def createPlot():\n",
    "    fig = plt.figure(1,facecolor = 'white')\n",
    "    fig.clf()\n",
    "    plt.rcParams['font.sans-serif']=['SimHei']\n",
    "    createPlot.ax1 = plt.subplot(111,frameon = False)\n",
    "    plotNode('决策节点',(0.5, 0.1),(0.1,0.5),decisionNode)\n",
    "    plotNode('叶节点' ,(0.8,0.1),(0.3,0.8),leafNode)\n",
    "    plt.show()\n",
    "    "
   ]
  },
  {
   "cell_type": "code",
   "execution_count": 102,
   "metadata": {},
   "outputs": [
    {
     "data": {
      "image/png": "[encoded data removed]",
      "text/plain": [
       "<Figure size 432x288 with 1 Axes>"
      ]
     },
     "metadata": {},
     "output_type": "display_data"
    }
   ],
   "source": [
    "\n",
    "createPlot()\n"
   ]
  },
  {
   "cell_type": "markdown",
   "metadata": {},
   "source": [
    "程序清单3-6 获取叶节点的数目和树的层数\n"
   ]
  },
  {
   "cell_type": "code",
   "execution_count": 103,
   "metadata": {},
   "outputs": [],
   "source": [
    "def getNumLeafs(myTree):\n",
    "    numLeafs = 0\n",
    "#     第一个关键字是第一次划分数据集的类别标签，附带的数值表示子节点的取值。\n",
    "    firstStr =list(myTree.keys())[0]\n",
    "    secondDict = myTree[firstStr]\n",
    "#     从第一个关键字出发，我们可以遍历整棵树的所有子节点。使用python提供的type（） 函数而已判断子节点是否为字典型\n",
    "#    如果子节点是字典类型，则该节点也是一个判断节点。需要递归调用getNumLeafs（）函数。getNumleafs（）函数遍历整棵树，\n",
    "# 累计叶子节点个数，并返回该数值。\n",
    "    for key in secondDict.keys():\n",
    "        if type(secondDict[key]).__name__ == 'dict':\n",
    "            numLeafs+=getNumLeafs(secondDict[key])\n",
    "        else:\n",
    "            numLeafs+=1\n",
    "    return numLeafs\n",
    "\n",
    "\n",
    "# 第2个函数getTresDepth（）计算遍历过程中遇到判断节点的个数。该函数的终止条件是叶子节点，一旦到达叶子节点，\n",
    "# 则从递归调用中返回，并将计算树深度的变量加一。\n",
    "\n",
    "def getTreeDepth(myTree):\n",
    "    maxDepth = 0\n",
    "    firstStr = list(myTree.keys())[0]\n",
    "    secondDict = myTree[firstStr]\n",
    "    for key in secondDict.keys():\n",
    "        if type(secondDict[key]).__name__=='dict':\n",
    "            thisDepth = 1 +getTreeDepth(secondDict[key])\n",
    "        else:\n",
    "            thisDepth = 1\n",
    "        if thisDepth > maxDepth: maxDepth = thisDepth\n",
    "    return maxDepth"
   ]
  },
  {
   "cell_type": "code",
   "execution_count": null,
   "metadata": {},
   "outputs": [],
   "source": [
    "\n"
   ]
  },
  {
   "cell_type": "code",
   "execution_count": 104,
   "metadata": {},
   "outputs": [],
   "source": [
    "# 为了节省大家时间，函数retrieveTree 输出预先存储的树信息，避免了每次测试代码时都要从数据中创建树的麻烦\n",
    "\n",
    "def  retrieveTree(i):\n",
    "    listOfTrees = [{'no surfacing':{0:'no',1:{'flippers':{0:'no',1:'yes'}}}},{'no surfacing':{0:'no',1:{'flippers':{0:{'head':{0:'no',1:'yes'}},1:'no'}}}}]\n",
    "    return listOfTrees[i]\n",
    "\n",
    "\n",
    "#函数retrieve（） 主要用于测试，返回预定义的树结构。上述命令中调用getNumLeafs（）函数返回值为3，\n",
    "# 等于树0的叶子节点数；调用getTreeDepths（）函数也能够正确返回数的层数\n",
    "\n"
   ]
  },
  {
   "cell_type": "code",
   "execution_count": 105,
   "metadata": {},
   "outputs": [
    {
     "data": {
      "text/plain": [
       "{'no surfacing': {0: 'no',\n",
       "  1: {'flippers': {0: {'head': {0: 'no', 1: 'yes'}}, 1: 'no'}}}}"
      ]
     },
     "execution_count": 105,
     "metadata": {},
     "output_type": "execute_result"
    }
   ],
   "source": [
    "retrieveTree(1)"
   ]
  },
  {
   "cell_type": "code",
   "execution_count": 106,
   "metadata": {},
   "outputs": [],
   "source": [
    "myTree = retrieveTree(0)"
   ]
  },
  {
   "cell_type": "code",
   "execution_count": 107,
   "metadata": {},
   "outputs": [
    {
     "data": {
      "text/plain": [
       "3"
      ]
     },
     "execution_count": 107,
     "metadata": {},
     "output_type": "execute_result"
    }
   ],
   "source": [
    "getNumLeafs(myTree)"
   ]
  },
  {
   "cell_type": "code",
   "execution_count": 108,
   "metadata": {},
   "outputs": [
    {
     "data": {
      "text/plain": [
       "2"
      ]
     },
     "execution_count": 108,
     "metadata": {},
     "output_type": "execute_result"
    }
   ],
   "source": [
    "getTreeDepth(myTree)"
   ]
  },
  {
   "cell_type": "code",
   "execution_count": 109,
   "metadata": {},
   "outputs": [],
   "source": [
    "# 函数retrieve Tree()主要用于测试，返回预定义的树结构。上述命令中调用getNumleafs() 函数返回值为3，等于树0的叶子节点数，\n",
    "# 调用getTreeDeepths（）函数也能够正确返回树的层数\n",
    "\n"
   ]
  },
  {
   "cell_type": "code",
   "execution_count": 110,
   "metadata": {},
   "outputs": [],
   "source": [
    "def plotMidText(cntrPt,parentPt,txtString):\n",
    "#     在父子节点间填充文本信息\n",
    "    xMid = (parentPt[0]-cntrPt[0])/2.0 + cntrPt[0]\n",
    "    yMid = (parentPt[1]-cntrPt[1])/2.0 + cntrPt[1]\n",
    "    createPlot.ax1.text(xMid, yMid, txtString, va=\"center\", ha=\"center\", rotation=30)\n",
    "\n",
    "def plotTree(myTree,parentPt,nodeTxt):\n",
    "#     计算宽与高\n",
    "    numLeafs = getNumLeafs(myTree)\n",
    "    depth = getTreeDepth(myTree)\n",
    "    firstStr = list(myTree.keys())[0]\n",
    "    \n",
    "\n",
    "    cntrPt = (plotTree.xOff + (1.0 + float(numLeafs))/2.0/plotTree.totalW, plotTree.yOff)\n",
    "    \n",
    "#     标记子节点属性\n",
    "    plotMidText(cntrPt, parentPt, nodeTxt)\n",
    "    plotNode(firstStr, cntrPt, parentPt, decisionNode)\n",
    "    secondDict = myTree[firstStr]\n",
    "#     减少y偏移\n",
    "    plotTree.yOff = plotTree.yOff - 1.0/plotTree.totalD\n",
    "    for key in secondDict.keys():\n",
    "        if type(secondDict[key]).__name__=='dict':\n",
    "            plotTree(secondDict[key],cntrPt,str(key))\n",
    "        else:\n",
    "            plotTree.xOff = plotTree.xOff+1.0/plotTree.totalW\n",
    "            plotNode(secondDict[key],(plotTree.xOff,plotTree.yOff),cntrPt,leafNode)\n",
    "            plotMidText((plotTree.xOff,plotTree.yOff),cntrPt,str(key))\n",
    "    plotTree.yOff =plotTree.yOff+1.0/plotTree.totalD\n",
    "\n",
    "def createPlot(inTree):\n",
    "    fig = plt.figure(1,facecolor = 'white')\n",
    "    fig.clf()\n",
    "    axprops = dict(xticks = [],yticks = [])\n",
    "    createPlot.ax1 = plt.subplot(111,frameon = False,**axprops)\n",
    "    #     全局变量plotTree.totalW储存树的宽度\n",
    "    plotTree.totalW = float(getNumLeafs(inTree))\n",
    "    #     全局变量plotTree.totalD储存树的深度\n",
    "    plotTree.totalD = float(getTreeDepth(inTree))\n",
    "    plotTree.xOff = -0.5/plotTree.totalW;plotTree.yOff = 1.0;\n",
    "    plotTree(inTree,(0.5,1.0),'')\n",
    "    plt.show()\n",
    "    "
   ]
  },
  {
   "cell_type": "code",
   "execution_count": 111,
   "metadata": {},
   "outputs": [],
   "source": [
    "myTree = retrieveTree(0)\n"
   ]
  },
  {
   "cell_type": "code",
   "execution_count": 112,
   "metadata": {},
   "outputs": [
    {
     "data": {
      "text/plain": [
       "{'no surfacing': {0: 'no', 1: {'flippers': {0: 'no', 1: 'yes'}}}}"
      ]
     },
     "execution_count": 112,
     "metadata": {},
     "output_type": "execute_result"
    }
   ],
   "source": [
    "myTree"
   ]
  },
  {
   "cell_type": "code",
   "execution_count": 113,
   "metadata": {},
   "outputs": [
    {
     "data": {
      "image/png": "[encoded data removed]",
      "text/plain": [
       "<Figure size 432x288 with 1 Axes>"
      ]
     },
     "metadata": {},
     "output_type": "display_data"
    }
   ],
   "source": [
    "createPlot(myTree)"
   ]
  },
  {
   "cell_type": "code",
   "execution_count": 114,
   "metadata": {},
   "outputs": [],
   "source": [
    "myTree['no surfacing'][3]='maybe'"
   ]
  },
  {
   "cell_type": "code",
   "execution_count": 115,
   "metadata": {},
   "outputs": [
    {
     "data": {
      "text/plain": [
       "{'no surfacing': {0: 'no', 1: {'flippers': {0: 'no', 1: 'yes'}}, 3: 'maybe'}}"
      ]
     },
     "execution_count": 115,
     "metadata": {},
     "output_type": "execute_result"
    }
   ],
   "source": [
    "myTree"
   ]
  },
  {
   "cell_type": "code",
   "execution_count": 116,
   "metadata": {},
   "outputs": [
    {
     "data": {
      "image/png": "[encoded data removed]",
      "text/plain": [
       "<Figure size 432x288 with 1 Axes>"
      ]
     },
     "metadata": {},
     "output_type": "display_data"
    }
   ],
   "source": [
    "createPlot(myTree)"
   ]
  },
  {
   "cell_type": "markdown",
   "metadata": {},
   "source": [
    "3-8 使用决策树的分类函数\n"
   ]
  },
  {
   "cell_type": "code",
   "execution_count": 133,
   "metadata": {},
   "outputs": [],
   "source": [
    "from importlib import reload\n",
    "import importlib\n",
    "import trees\n",
    "importlib.reload(trees)\n",
    "\n",
    "def classify(inputTree,featLabels,testVec):\n",
    "    \n",
    "    firstStr = (list(inputTree.keys()))[0]\n",
    "    secondDict = inputTree[firstStr]\n",
    "    #     使用index方法查找当前列表中第一个匹配firstStr变量的元素\n",
    "    featIndex = featLabels.index(firstStr)\n",
    "#     递归遍历整棵树，比较testVec变量中的值与树节点的值。如果到达叶子节点，则返回当前节点的分类标签\n",
    "    for key in secondDict.keys():\n",
    "        if testVec[featIndex] == key:\n",
    "            if type(secondDict[key]).__name__ =='dict':\n",
    "                classLabel = classify(secondDict[key],featLabels,testVec)\n",
    "            else: classLabel = secondDict[key]\n",
    "    return classLabel\n",
    "\n",
    "    "
   ]
  },
  {
   "cell_type": "code",
   "execution_count": 134,
   "metadata": {},
   "outputs": [
    {
     "data": {
      "text/plain": [
       "['no surfacing', 'flippers']"
      ]
     },
     "execution_count": 134,
     "metadata": {},
     "output_type": "execute_result"
    }
   ],
   "source": [
    "\n",
    "myDat,labels = createDataSet()\n",
    "labels"
   ]
  },
  {
   "cell_type": "code",
   "execution_count": 135,
   "metadata": {},
   "outputs": [
    {
     "data": {
      "text/plain": [
       "{'no surfacing': {0: 'no', 1: {'flippers': {0: 'no', 1: 'yes'}}}}"
      ]
     },
     "execution_count": 135,
     "metadata": {},
     "output_type": "execute_result"
    }
   ],
   "source": [
    "myTree = retrieveTree(0)\n",
    "myTree"
   ]
  },
  {
   "cell_type": "code",
   "execution_count": 136,
   "metadata": {},
   "outputs": [
    {
     "data": {
      "text/plain": [
       "'no'"
      ]
     },
     "execution_count": 136,
     "metadata": {},
     "output_type": "execute_result"
    }
   ],
   "source": [
    "classify(myTree,labels,[1,0])"
   ]
  },
  {
   "cell_type": "code",
   "execution_count": 137,
   "metadata": {},
   "outputs": [
    {
     "data": {
      "text/plain": [
       "'yes'"
      ]
     },
     "execution_count": 137,
     "metadata": {},
     "output_type": "execute_result"
    }
   ],
   "source": [
    "classify(myTree,labels,[1,1])"
   ]
  },
  {
   "cell_type": "markdown",
   "metadata": {},
   "source": [
    "\n",
    "程序清单3-9使用pickle 模块存储决策树\n"
   ]
  },
  {
   "cell_type": "code",
   "execution_count": 173,
   "metadata": {},
   "outputs": [],
   "source": [
    "def storeTree(inputTree,filename):\n",
    "    import pickle\n",
    "    fw = open(filename,'wb+') \n",
    "    pickle.dump(inputTree,fw)\n",
    "    fw.close()\n",
    "    \n",
    "def grabTree(filename):\n",
    "    import pickle\n",
    "    fr = open(filename,'rb')\n",
    "    return pickle.load(fr)"
   ]
  },
  {
   "cell_type": "code",
   "execution_count": 174,
   "metadata": {},
   "outputs": [],
   "source": [
    "storeTree(myTree,'classifierStorage.txt')"
   ]
  },
  {
   "cell_type": "code",
   "execution_count": 175,
   "metadata": {},
   "outputs": [
    {
     "data": {
      "text/plain": [
       "{'no surfacing': {0: 'no', 1: {'flippers': {0: 'no', 1: 'yes'}}}}"
      ]
     },
     "execution_count": 175,
     "metadata": {},
     "output_type": "execute_result"
    }
   ],
   "source": [
    "grabTree('classifierStorage.txt')"
   ]
  },
  {
   "cell_type": "code",
   "execution_count": null,
   "metadata": {},
   "outputs": [],
   "source": []
  },
  {
   "cell_type": "code",
   "execution_count": null,
   "metadata": {},
   "outputs": [],
   "source": []
  },
  {
   "cell_type": "code",
   "execution_count": null,
   "metadata": {},
   "outputs": [],
   "source": []
  }
 ],
 "metadata": {
  "kernelspec": {
   "display_name": "Python 3",
   "language": "python",
   "name": "python3"
  },
  "language_info": {
   "codemirror_mode": {
    "name": "ipython",
    "version": 3
   },
   "file_extension": ".py",
   "mimetype": "text/x-python",
   "name": "python",
   "nbconvert_exporter": "python",
   "pygments_lexer": "ipython3",
   "version": "3.6.1"
  }
 },
 "nbformat": 4,
 "nbformat_minor": 4
}
